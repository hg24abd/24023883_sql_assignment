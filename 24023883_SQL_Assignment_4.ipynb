{
  "nbformat": 4,
  "nbformat_minor": 0,
  "metadata": {
    "colab": {
      "provenance": []
    },
    "kernelspec": {
      "name": "python3",
      "display_name": "Python 3"
    },
    "language_info": {
      "name": "python"
    }
  },
  "cells": [
    {
      "cell_type": "markdown",
      "source": [
        "# SQL ASSIGNMENT"
      ],
      "metadata": {
        "id": "cPDaDJekVyfs"
      }
    },
    {
      "cell_type": "markdown",
      "source": [
        "## Python Code"
      ],
      "metadata": {
        "id": "ZDJOP4V0aKPv"
      }
    },
    {
      "cell_type": "code",
      "source": [
        "# Install dependencies\n",
        "!pip install faker pandas sqlite-utils\n"
      ],
      "metadata": {
        "colab": {
          "base_uri": "https://localhost:8080/"
        },
        "id": "U7mReFnqZvYR",
        "outputId": "359be865-dce3-470e-82e8-7ff5731607ff"
      },
      "execution_count": 62,
      "outputs": [
        {
          "output_type": "stream",
          "name": "stdout",
          "text": [
            "Requirement already satisfied: faker in /usr/local/lib/python3.11/dist-packages (37.0.0)\n",
            "Requirement already satisfied: pandas in /usr/local/lib/python3.11/dist-packages (2.2.2)\n",
            "Requirement already satisfied: sqlite-utils in /usr/local/lib/python3.11/dist-packages (3.38)\n",
            "Requirement already satisfied: tzdata in /usr/local/lib/python3.11/dist-packages (from faker) (2025.1)\n",
            "Requirement already satisfied: numpy>=1.23.2 in /usr/local/lib/python3.11/dist-packages (from pandas) (1.26.4)\n",
            "Requirement already satisfied: python-dateutil>=2.8.2 in /usr/local/lib/python3.11/dist-packages (from pandas) (2.8.2)\n",
            "Requirement already satisfied: pytz>=2020.1 in /usr/local/lib/python3.11/dist-packages (from pandas) (2025.1)\n",
            "Requirement already satisfied: sqlite-fts4 in /usr/local/lib/python3.11/dist-packages (from sqlite-utils) (1.0.3)\n",
            "Requirement already satisfied: click in /usr/local/lib/python3.11/dist-packages (from sqlite-utils) (8.1.8)\n",
            "Requirement already satisfied: click-default-group>=1.2.3 in /usr/local/lib/python3.11/dist-packages (from sqlite-utils) (1.2.4)\n",
            "Requirement already satisfied: tabulate in /usr/local/lib/python3.11/dist-packages (from sqlite-utils) (0.9.0)\n",
            "Requirement already satisfied: pluggy in /usr/local/lib/python3.11/dist-packages (from sqlite-utils) (1.5.0)\n",
            "Requirement already satisfied: six>=1.5 in /usr/local/lib/python3.11/dist-packages (from python-dateutil>=2.8.2->pandas) (1.17.0)\n"
          ]
        }
      ]
    },
    {
      "cell_type": "markdown",
      "source": [
        "## Import required libraries"
      ],
      "metadata": {
        "id": "idcc7YfSWDW8"
      }
    },
    {
      "cell_type": "code",
      "source": [
        "#import sqlite3\n",
        "import pandas as pd\n",
        "import random\n",
        "from faker import Faker\n",
        "from datetime import datetime, timedelta\n"
      ],
      "metadata": {
        "id": "J_GNRiQrWDDj"
      },
      "execution_count": 63,
      "outputs": []
    },
    {
      "cell_type": "code",
      "source": [
        "# Initialize Faker\n",
        "fake = Faker()\n"
      ],
      "metadata": {
        "id": "QaPNIE_mWNcq"
      },
      "execution_count": 64,
      "outputs": []
    },
    {
      "cell_type": "code",
      "source": [
        "# Blood types and specializations\n",
        "BLOOD_TYPES = ['A+', 'A-', 'B+', 'B-', 'AB+', 'AB-', 'O+', 'O-']\n",
        "SPECIALIZATIONS = ['Cardiology', 'Neurology', 'Orthopedics', 'Pediatrics', 'General Medicine']\n"
      ],
      "metadata": {
        "id": "yqWHjT-vWzhE"
      },
      "execution_count": 65,
      "outputs": []
    },
    {
      "cell_type": "code",
      "source": [
        "# Define number of records\n",
        "NUM_PATIENTS = 1000\n",
        "NUM_DOCTORS = 50\n",
        "NUM_MEDICAL_RECORDS = 1500\n",
        "NUM_APPOINTMENTS = 1200\n",
        "NUM_BILLINGS = 1000\n"
      ],
      "metadata": {
        "id": "xFZg1yxTWvF7"
      },
      "execution_count": 66,
      "outputs": []
    },
    {
      "cell_type": "code",
      "source": [
        "# Create lists for each table's data\n",
        "patients = []\n",
        "doctors = []\n",
        "medical_records = []\n",
        "appointments = []\n",
        "billings = []\n"
      ],
      "metadata": {
        "id": "vKd6WYDMW4iK"
      },
      "execution_count": 67,
      "outputs": []
    },
    {
      "cell_type": "markdown",
      "source": [
        "## Generate Patient Data"
      ],
      "metadata": {
        "id": "7kFKOepHXJrw"
      }
    },
    {
      "cell_type": "code",
      "source": [
        "# Generate patients data (with some duplicate and missing data)\n",
        "for i in range(NUM_PATIENTS):\n",
        "    name = fake.name() if random.random() > 0.05 else None  # 5% missing names\n",
        "    age = random.randint(1, 100)  # Realistic age range\n",
        "    gender = random.choice(['Male', 'Female', 'Other'])\n",
        "    blood_type = random.choice(BLOOD_TYPES)\n",
        "    contact = fake.phone_number() if random.random() > 0.1 else None  # 10% missing contacts\n",
        "    address = fake.address()\n",
        "    insurance = fake.company() if random.random() > 0.2 else None  # 20% missing insurance\n",
        "    patients.append([i + 1, name, age, gender, blood_type, contact, address, insurance])\n",
        "\n",
        "# Add some duplicate patient data\n",
        "for _ in range(5):\n",
        "    duplicate_patient = random.choice(patients[:-5])  # Select a random existing patient\n",
        "    patients.append(duplicate_patient)  # Add duplicate entry\n",
        "\n",
        "print(f\"{NUM_PATIENTS + 5} patients generated (including 5 duplicates) with realistic missing data!\")\n"
      ],
      "metadata": {
        "colab": {
          "base_uri": "https://localhost:8080/"
        },
        "id": "jWhZ4t4IW9PE",
        "outputId": "6d6e97db-704c-4e15-8b33-d341c749b35b"
      },
      "execution_count": 68,
      "outputs": [
        {
          "output_type": "stream",
          "name": "stdout",
          "text": [
            "1005 patients generated (including 5 duplicates) with realistic missing data!\n"
          ]
        }
      ]
    },
    {
      "cell_type": "markdown",
      "source": [
        "## Generate Doctor Data"
      ],
      "metadata": {
        "id": "nvBO4J-xXaDi"
      }
    },
    {
      "cell_type": "code",
      "source": [
        "# Generate doctors data\n",
        "for i in range(NUM_DOCTORS):\n",
        "    doctors.append([i + 1, fake.name(), random.choice(SPECIALIZATIONS), random.randint(1, 40), fake.phone_number()])\n",
        "\n",
        "print(f\"{NUM_DOCTORS} doctors generated with random specializations and experience.\")\n"
      ],
      "metadata": {
        "colab": {
          "base_uri": "https://localhost:8080/"
        },
        "id": "ihm2yhJFXage",
        "outputId": "db580f03-19e2-4578-9652-ce48e342143b"
      },
      "execution_count": 69,
      "outputs": [
        {
          "output_type": "stream",
          "name": "stdout",
          "text": [
            "50 doctors generated with random specializations and experience.\n"
          ]
        }
      ]
    },
    {
      "cell_type": "markdown",
      "source": [
        "## Generate Medical Data"
      ],
      "metadata": {
        "id": "GunG7hD_Xo5x"
      }
    },
    {
      "cell_type": "code",
      "source": [
        "# Generate medical records\n",
        "for i in range(NUM_MEDICAL_RECORDS):\n",
        "    patient_id = random.randint(1, NUM_PATIENTS)\n",
        "    doctor_id = random.randint(1, NUM_DOCTORS)\n",
        "    diagnosis = random.choice(['Flu', 'Diabetes', 'Hypertension', 'COVID-19', 'Asthma', 'Cancer'])\n",
        "    treatment = random.choice(['Medication', 'Surgery', 'Therapy', 'Observation', 'Hospitalization'])\n",
        "    admission_date = fake.date_between(start_date=\"-2y\", end_date=\"today\")\n",
        "    discharge_date = admission_date + timedelta(days=random.randint(1, 10))\n",
        "    medical_records.append([i + 1, patient_id, diagnosis, treatment, admission_date, discharge_date, doctor_id])\n",
        "\n",
        "print(f\"{NUM_MEDICAL_RECORDS} medical records generated with random diagnoses, treatments, and dates.\")\n"
      ],
      "metadata": {
        "colab": {
          "base_uri": "https://localhost:8080/"
        },
        "id": "sOoaGyG9XpRl",
        "outputId": "a38be147-0970-44b0-961d-d9fcd067dcce"
      },
      "execution_count": 70,
      "outputs": [
        {
          "output_type": "stream",
          "name": "stdout",
          "text": [
            "1500 medical records generated with random diagnoses, treatments, and dates.\n"
          ]
        }
      ]
    },
    {
      "cell_type": "markdown",
      "source": [
        "## Generate Appointment Data"
      ],
      "metadata": {
        "id": "xnPa_JtQX1zP"
      }
    },
    {
      "cell_type": "code",
      "source": [
        "# Generate appointments\n",
        "for i in range(NUM_APPOINTMENTS):\n",
        "    appointments.append([i + 1, random.randint(1, NUM_PATIENTS), random.randint(1, NUM_DOCTORS),\n",
        "                         fake.date_between(start_date=\"-1y\", end_date=\"today\"),\n",
        "                         random.choice(['Scheduled', 'Completed', 'Canceled'])])\n",
        "\n",
        "print(f\"{NUM_APPOINTMENTS} appointments generated with random patient-doctor pairs and appointment statuses.\")\n"
      ],
      "metadata": {
        "colab": {
          "base_uri": "https://localhost:8080/"
        },
        "id": "8H1VobSnX2RL",
        "outputId": "d4ae470d-702b-42c3-9ed8-9562ced8ef2a"
      },
      "execution_count": 71,
      "outputs": [
        {
          "output_type": "stream",
          "name": "stdout",
          "text": [
            "1200 appointments generated with random patient-doctor pairs and appointment statuses.\n"
          ]
        }
      ]
    },
    {
      "cell_type": "markdown",
      "source": [
        "## Generate Billing Data"
      ],
      "metadata": {
        "id": "I9ykDzwqYAY5"
      }
    },
    {
      "cell_type": "code",
      "source": [
        "# Generate billing data\n",
        "for i in range(NUM_BILLINGS):\n",
        "    billings.append([i + 1, random.randint(1, NUM_PATIENTS), round(random.uniform(100, 5000), 2),\n",
        "                     random.choice(['Paid', 'Unpaid', 'Pending']),\n",
        "                     random.choice(['Approved', 'Rejected', 'Processing'])])\n",
        "\n",
        "print(f\"{NUM_BILLINGS} billing records generated with random amounts and payment statuses.\")\n"
      ],
      "metadata": {
        "colab": {
          "base_uri": "https://localhost:8080/"
        },
        "id": "oEomELK6YA02",
        "outputId": "628fa4a9-6cb1-488c-d603-2efc220dfb6c"
      },
      "execution_count": 72,
      "outputs": [
        {
          "output_type": "stream",
          "name": "stdout",
          "text": [
            "1000 billing records generated with random amounts and payment statuses.\n"
          ]
        }
      ]
    },
    {
      "cell_type": "markdown",
      "source": [
        "## Convert to DataFrames"
      ],
      "metadata": {
        "id": "0-ZPgT7-YLbb"
      }
    },
    {
      "cell_type": "code",
      "source": [
        "# Convert to DataFrames after data is generated\n",
        "patients_df = pd.DataFrame(patients, columns=['patient_id', 'name', 'age', 'gender', 'blood_type', 'contact_number', 'address', 'insurance_provider'])\n",
        "doctors_df = pd.DataFrame(doctors, columns=['doctor_id', 'name', 'specialization', 'experience_years', 'contact_number'])\n",
        "medical_records_df = pd.DataFrame(medical_records, columns=['record_id', 'patient_id', 'diagnosis', 'treatment', 'admission_date', 'discharge_date', 'doctor_id'])\n",
        "appointments_df = pd.DataFrame(appointments, columns=['appointment_id', 'patient_id', 'doctor_id', 'appointment_date', 'status'])\n",
        "billings_df = pd.DataFrame(billings, columns=['bill_id', 'patient_id', 'amount_due', 'payment_status', 'insurance_claim_status'])\n"
      ],
      "metadata": {
        "id": "EhC0KZ8PYL61"
      },
      "execution_count": 73,
      "outputs": []
    },
    {
      "cell_type": "markdown",
      "source": [
        "## SAVE as CSV Files"
      ],
      "metadata": {
        "id": "i8TlN45hYf1R"
      }
    },
    {
      "cell_type": "code",
      "source": [
        "# Save as CSV files\n",
        "patients_df.to_csv(\"patients.csv\", index=False)\n",
        "doctors_df.to_csv(\"doctors.csv\", index=False)\n",
        "medical_records_df.to_csv(\"medical_records.csv\", index=False)\n",
        "appointments_df.to_csv(\"appointments.csv\", index=False)\n",
        "billings_df.to_csv(\"billings.csv\", index=False)\n",
        "\n",
        "print(\"CSV files created successfully. Now, upload them to SQLite.\")\n"
      ],
      "metadata": {
        "colab": {
          "base_uri": "https://localhost:8080/"
        },
        "id": "5gDwpQ2vYgTL",
        "outputId": "ade931e5-08d6-44f1-b9ef-90759181a873"
      },
      "execution_count": 74,
      "outputs": [
        {
          "output_type": "stream",
          "name": "stdout",
          "text": [
            "CSV files created successfully. Now, upload them to SQLite.\n"
          ]
        }
      ]
    },
    {
      "cell_type": "markdown",
      "source": [
        "# SQL CODE"
      ],
      "metadata": {
        "id": "wvSo2S9NNJbR"
      }
    },
    {
      "cell_type": "code",
      "source": [
        "# Import required libraries\n",
        "import sqlite3\n",
        "import graphviz\n"
      ],
      "metadata": {
        "id": "ac5uHLIwNFL0"
      },
      "execution_count": 75,
      "outputs": []
    },
    {
      "cell_type": "markdown",
      "source": [
        "## Connect to a SQLite Database"
      ],
      "metadata": {
        "id": "neUyW_5INriW"
      }
    },
    {
      "cell_type": "code",
      "source": [
        "# Connect to SQLite database\n",
        "conn = sqlite3.connect(\"hospital.db\")\n",
        "cursor = conn.cursor()\n"
      ],
      "metadata": {
        "id": "CKatsKxZNvXx"
      },
      "execution_count": 76,
      "outputs": []
    },
    {
      "cell_type": "markdown",
      "source": [
        "## Create the tables in SQLite Database"
      ],
      "metadata": {
        "id": "Fnn40WUwNg94"
      }
    },
    {
      "cell_type": "markdown",
      "source": [
        "###  Table 1 : Patients"
      ],
      "metadata": {
        "id": "6Ydz7nUROB8b"
      }
    },
    {
      "cell_type": "code",
      "source": [
        "# Create a Patient table into SQLite Database.\n",
        "cursor.execute('''\n",
        "CREATE TABLE IF NOT EXISTS Patients (\n",
        "    patient_id INTEGER PRIMARY KEY,\n",
        "    name TEXT,\n",
        "    age INTEGER,\n",
        "    gender TEXT CHECK(gender IN ('Male', 'Female', 'Other')),\n",
        "    blood_type TEXT,\n",
        "    contact_number TEXT,\n",
        "    address TEXT,\n",
        "    insurance_provider TEXT\n",
        ");\n",
        "''')\n"
      ],
      "metadata": {
        "colab": {
          "base_uri": "https://localhost:8080/"
        },
        "id": "8G6sQg6fNFqh",
        "outputId": "038fea53-f964-4814-a9d2-6a884827f596"
      },
      "execution_count": 77,
      "outputs": [
        {
          "output_type": "execute_result",
          "data": {
            "text/plain": [
              "<sqlite3.Cursor at 0x7bbde65fbcc0>"
            ]
          },
          "metadata": {},
          "execution_count": 77
        }
      ]
    },
    {
      "cell_type": "markdown",
      "source": [
        "###  Table 2 : Doctors"
      ],
      "metadata": {
        "id": "jZNahZG5OsjZ"
      }
    },
    {
      "cell_type": "code",
      "source": [
        "# Create a Doctors table into SQLite Database.\n",
        "cursor.execute('''\n",
        "CREATE TABLE IF NOT EXISTS Doctors (\n",
        "    doctor_id INTEGER PRIMARY KEY,\n",
        "    name TEXT NOT NULL,\n",
        "    specialization TEXT,\n",
        "    experience_years INTEGER CHECK(experience_years >= 0),\n",
        "    contact_number TEXT UNIQUE\n",
        ");\n",
        "''')\n"
      ],
      "metadata": {
        "colab": {
          "base_uri": "https://localhost:8080/"
        },
        "id": "pY9Nv6lPNFtE",
        "outputId": "a1302157-651c-498a-9a98-d8f3698f9a9d"
      },
      "execution_count": 78,
      "outputs": [
        {
          "output_type": "execute_result",
          "data": {
            "text/plain": [
              "<sqlite3.Cursor at 0x7bbde65fbcc0>"
            ]
          },
          "metadata": {},
          "execution_count": 78
        }
      ]
    },
    {
      "cell_type": "markdown",
      "source": [
        "###  Table 3 : Medical_Records"
      ],
      "metadata": {
        "id": "l22M12f2PDoD"
      }
    },
    {
      "cell_type": "code",
      "source": [
        "# Create a Medical_Records table into SQLite Database.\n",
        "cursor.execute(\"\"\"\n",
        "CREATE TABLE IF NOT EXISTS Medical_Records (\n",
        "    record_id INTEGER PRIMARY KEY,\n",
        "    patient_id INTEGER,\n",
        "    diagnosis TEXT,\n",
        "    treatment TEXT,\n",
        "    admission_date DATE,\n",
        "    discharge_date DATE,\n",
        "    doctor_id INTEGER,\n",
        "    FOREIGN KEY (patient_id) REFERENCES Patients(patient_id),\n",
        "    FOREIGN KEY (doctor_id) REFERENCES Doctors(doctor_id)\n",
        ");\n",
        "\"\"\")\n"
      ],
      "metadata": {
        "colab": {
          "base_uri": "https://localhost:8080/"
        },
        "id": "1DpBP3nhNF04",
        "outputId": "06310660-bd75-4d8d-e84c-2560cb6ae8fc"
      },
      "execution_count": 79,
      "outputs": [
        {
          "output_type": "execute_result",
          "data": {
            "text/plain": [
              "<sqlite3.Cursor at 0x7bbde65fbcc0>"
            ]
          },
          "metadata": {},
          "execution_count": 79
        }
      ]
    },
    {
      "cell_type": "markdown",
      "source": [
        "###  Table 4 : Appointments"
      ],
      "metadata": {
        "id": "3hBjbRBlPUoS"
      }
    },
    {
      "cell_type": "code",
      "source": [
        "# Create a Appointments table into SQLite Database.\n",
        "cursor.execute(\"\"\"\n",
        "CREATE TABLE IF NOT EXISTS Appointments (\n",
        "    appointment_id INTEGER PRIMARY KEY,\n",
        "    patient_id INTEGER,\n",
        "    doctor_id INTEGER,\n",
        "    appointment_date DATE,\n",
        "    status TEXT CHECK(status IN ('Scheduled', 'Completed', 'Canceled')),\n",
        "    FOREIGN KEY (patient_id) REFERENCES Patients(patient_id),\n",
        "    FOREIGN KEY (doctor_id) REFERENCES Doctors(doctor_id),\n",
        "    UNIQUE (patient_id, doctor_id, appointment_date)\n",
        ");\n",
        "\"\"\")\n"
      ],
      "metadata": {
        "colab": {
          "base_uri": "https://localhost:8080/"
        },
        "id": "BszFNIyXNF3f",
        "outputId": "724dfaa7-30fa-43a7-ea93-c65e0f0be614"
      },
      "execution_count": 80,
      "outputs": [
        {
          "output_type": "execute_result",
          "data": {
            "text/plain": [
              "<sqlite3.Cursor at 0x7bbde65fbcc0>"
            ]
          },
          "metadata": {},
          "execution_count": 80
        }
      ]
    },
    {
      "cell_type": "markdown",
      "source": [
        "###  Table 5 : Billings"
      ],
      "metadata": {
        "id": "yx0H42C6PneY"
      }
    },
    {
      "cell_type": "code",
      "source": [
        "# Create a Billings table into SQLite Database.\n",
        "cursor.execute(\"\"\"\n",
        "CREATE TABLE IF NOT EXISTS Billings (\n",
        "    bill_id INTEGER PRIMARY KEY,\n",
        "    patient_id INTEGER,\n",
        "    amount_due REAL CHECK(amount_due > 0),\n",
        "    payment_status TEXT CHECK(payment_status IN ('Paid', 'Unpaid', 'Pending')),\n",
        "    insurance_claim_status TEXT CHECK(insurance_claim_status IN ('Approved', 'Rejected', 'Processing')),\n",
        "    FOREIGN KEY (patient_id) REFERENCES Patients(patient_id)\n",
        ");\n",
        "\"\"\")\n"
      ],
      "metadata": {
        "colab": {
          "base_uri": "https://localhost:8080/"
        },
        "id": "b3Xv6lhENF53",
        "outputId": "f8440c5c-5295-40e5-98ad-7231f87f2c3a"
      },
      "execution_count": 81,
      "outputs": [
        {
          "output_type": "execute_result",
          "data": {
            "text/plain": [
              "<sqlite3.Cursor at 0x7bbde65fbcc0>"
            ]
          },
          "metadata": {},
          "execution_count": 81
        }
      ]
    },
    {
      "cell_type": "markdown",
      "source": [
        "## Load CSV into SQLite"
      ],
      "metadata": {
        "id": "eyQk498OP5mW"
      }
    },
    {
      "cell_type": "code",
      "source": [
        "patients_df.to_sql('Patients', conn, if_exists='replace', index=False)\n",
        "doctors_df.to_sql('Doctors', conn, if_exists='replace', index=False)\n",
        "medical_records_df.to_sql('Medical_Records', conn, if_exists='replace', index=False)\n",
        "appointments_df.to_sql('Appointments', conn, if_exists='replace', index=False)\n",
        "billings_df.to_sql('Billings', conn, if_exists='replace', index=False)\n"
      ],
      "metadata": {
        "colab": {
          "base_uri": "https://localhost:8080/"
        },
        "id": "d-tHQX9iNF8b",
        "outputId": "5624b1a3-5da7-4ef7-8c7d-c1d5baff998d"
      },
      "execution_count": 82,
      "outputs": [
        {
          "output_type": "execute_result",
          "data": {
            "text/plain": [
              "1000"
            ]
          },
          "metadata": {},
          "execution_count": 82
        }
      ]
    },
    {
      "cell_type": "code",
      "source": [
        "# Query to check data\n",
        "df = pd.read_sql_query(\"SELECT * FROM Patients LIMIT 5\", conn)\n",
        "print(df)\n"
      ],
      "metadata": {
        "colab": {
          "base_uri": "https://localhost:8080/"
        },
        "id": "Y8DqQwGNNF-x",
        "outputId": "89ff8558-56a2-415f-98ed-f9b01c165f4c"
      },
      "execution_count": 83,
      "outputs": [
        {
          "output_type": "stream",
          "name": "stdout",
          "text": [
            "   patient_id             name  age gender blood_type        contact_number  \\\n",
            "0           1       Lynn Clark   81  Other         O+      001-678-623-9345   \n",
            "1           2             None   28   Male         O-  001-580-902-5699x076   \n",
            "2           3     Mary Johnson   81  Other         O+          508.987.1634   \n",
            "3           4  Jennifer Howard   99   Male        AB-                  None   \n",
            "4           5      Chad Guzman   68   Male         B+   +1-233-777-4517x523   \n",
            "\n",
            "                                             address  \\\n",
            "0          98238 Stevens Light\\nMontesland, KY 00597   \n",
            "1        7496 Clark Turnpike\\nRobinsonfurt, GA 11707   \n",
            "2          7541 Wesley Rest\\nWest Tinaland, PA 05987   \n",
            "3  141 Barber Wells Apt. 598\\nSouth Kristen, MD 7...   \n",
            "4  42950 Madison Cliff Suite 945\\nChristinaview, ...   \n",
            "\n",
            "               insurance_provider  \n",
            "0                            None  \n",
            "1      Fischer, Dalton and Huerta  \n",
            "2                     Perry-Crane  \n",
            "3  Mendoza, Rodriguez and Collins  \n",
            "4                            None  \n"
          ]
        }
      ]
    },
    {
      "cell_type": "markdown",
      "source": [
        "## Generate a .png image of the database schema, where each table is shown as a node and each column is represented as an edge."
      ],
      "metadata": {
        "id": "kqCNT5tYY7r6"
      }
    },
    {
      "cell_type": "code",
      "source": [
        "# Retrieve Table and Column Information\n",
        "cursor.execute(\"SELECT name FROM sqlite_master WHERE type='table';\")\n",
        "tables = cursor.fetchall()\n",
        "\n",
        "# Create a Graphviz Digraph\n",
        "dot = graphviz.Digraph(format='png')\n",
        "\n",
        "# For each table, add it to the diagram\n",
        "for table in tables:\n",
        "    table_name = table[0]\n",
        "    dot.node(table_name, table_name)\n",
        "\n",
        "    cursor.execute(f\"PRAGMA table_info({table_name});\")\n",
        "    columns = cursor.fetchall()\n",
        "\n",
        "    # Add columns to the table node\n",
        "    for column in columns:\n",
        "        column_name = column[1]\n",
        "        dot.edge(table_name, column_name, label=column_name)\n",
        "\n",
        "# Render the Graph\n",
        "dot.render('db_schema')\n"
      ],
      "metadata": {
        "id": "6YKVNEl5X-4S",
        "colab": {
          "base_uri": "https://localhost:8080/",
          "height": 35
        },
        "outputId": "930f9069-37b7-4e58-ca68-02c5b2a24902"
      },
      "execution_count": 84,
      "outputs": [
        {
          "output_type": "execute_result",
          "data": {
            "text/plain": [
              "'db_schema.png'"
            ],
            "application/vnd.google.colaboratory.intrinsic+json": {
              "type": "string"
            }
          },
          "metadata": {},
          "execution_count": 84
        }
      ]
    },
    {
      "cell_type": "markdown",
      "source": [
        "## Close a SQLite Database Connection"
      ],
      "metadata": {
        "id": "uqreHi1rQJTh"
      }
    },
    {
      "cell_type": "code",
      "source": [
        "conn.close()\n"
      ],
      "metadata": {
        "id": "GH4uGybmNGA2"
      },
      "execution_count": 85,
      "outputs": []
    }
  ]
}